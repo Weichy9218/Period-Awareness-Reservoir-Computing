{
 "cells": [
  {
   "cell_type": "code",
   "execution_count": 1,
   "metadata": {},
   "outputs": [],
   "source": [
    "import pandas as pd\n",
    "import numpy as np\n",
    "\n",
    "file_path = r'C:\\Users\\xycy1\\Desktop\\PeriodRes_AAAI\\code\\Comparison\\total_acc.xlsx'\n",
    "df_acc = pd.read_excel(file_path, sheet_name=0, engine='openpyxl')"
   ]
  },
  {
   "cell_type": "code",
   "execution_count": 2,
   "metadata": {},
   "outputs": [
    {
     "name": "stdout",
     "output_type": "stream",
     "text": [
      "<class 'pandas.core.frame.DataFrame'>\n",
      "RangeIndex: 128 entries, 0 to 127\n",
      "Data columns (total 11 columns):\n",
      " #   Column         Non-Null Count  Dtype  \n",
      "---  ------         --------------  -----  \n",
      " 0   Unnamed: 0     128 non-null    object \n",
      " 1   TimesNet       128 non-null    float64\n",
      " 2   Inceptiontime  128 non-null    float64\n",
      " 3   LSTNet         128 non-null    float64\n",
      " 4   FEDformer      128 non-null    float64\n",
      " 5   Minirocket     128 non-null    float64\n",
      " 6   Rocket         128 non-null    float64\n",
      " 7   Hivecote       128 non-null    float64\n",
      " 8   Hydra          128 non-null    float64\n",
      " 9   rmESN          128 non-null    float64\n",
      " 10  PARC           128 non-null    float64\n",
      "dtypes: float64(10), object(1)\n",
      "memory usage: 11.1+ KB\n"
     ]
    },
    {
     "data": {
      "text/plain": [
       "(128, None)"
      ]
     },
     "execution_count": 2,
     "metadata": {},
     "output_type": "execute_result"
    }
   ],
   "source": [
    "len(df_acc), df_acc.info()"
   ]
  },
  {
   "cell_type": "code",
   "execution_count": 3,
   "metadata": {},
   "outputs": [],
   "source": [
    "# 将第一列设置为索引\n",
    "df_acc.set_index(df_acc.columns[0], inplace=True)\n",
    "\n",
    "# 需要删除的行的列表\n",
    "indices_to_remove = ['SyntheticControl', 'TwoPatterns', 'SmoothSubspace', \n",
    "                     'GestureMidAirD1', 'GestureMidAirD3', 'UWaveGestureLibraryX', \n",
    "                     'UWaveGestureLibraryZ']\n",
    "\n",
    "# 删除指定索引的行\n",
    "df_acc.drop(indices_to_remove, errors='ignore', inplace=True)"
   ]
  },
  {
   "cell_type": "code",
   "execution_count": 4,
   "metadata": {},
   "outputs": [
    {
     "name": "stdout",
     "output_type": "stream",
     "text": [
      "<class 'pandas.core.frame.DataFrame'>\n",
      "Index: 121 entries, ACSF1 to Yoga\n",
      "Data columns (total 10 columns):\n",
      " #   Column         Non-Null Count  Dtype  \n",
      "---  ------         --------------  -----  \n",
      " 0   TimesNet       121 non-null    float64\n",
      " 1   Inceptiontime  121 non-null    float64\n",
      " 2   LSTNet         121 non-null    float64\n",
      " 3   FEDformer      121 non-null    float64\n",
      " 4   Minirocket     121 non-null    float64\n",
      " 5   Rocket         121 non-null    float64\n",
      " 6   Hivecote       121 non-null    float64\n",
      " 7   Hydra          121 non-null    float64\n",
      " 8   rmESN          121 non-null    float64\n",
      " 9   PARC           121 non-null    float64\n",
      "dtypes: float64(10)\n",
      "memory usage: 10.4+ KB\n"
     ]
    },
    {
     "data": {
      "text/plain": [
       "(121, None)"
      ]
     },
     "execution_count": 4,
     "metadata": {},
     "output_type": "execute_result"
    }
   ],
   "source": [
    "len(df_acc), df_acc.info()"
   ]
  },
  {
   "cell_type": "code",
   "execution_count": 5,
   "metadata": {},
   "outputs": [
    {
     "name": "stdout",
     "output_type": "stream",
     "text": [
      "ACSF1 & 0.3500 & 0.8800 & 0.8500 & 0.5600 & 0.9000 & 0.8800 & \\textbf{0.9400} & 0.8800 & 0.8000 & 0.8500 \\\\\n",
      "Adiac & 0.4859 & 0.7494 & 0.7442 & 0.2890 & 0.8184 & 0.7852 & 0.8107 & \\textbf{0.8235} & 0.4655 & 0.7545 \\\\\n",
      "AllGestureWiimoteX & 0.4629 & 0.7671 & 0.6114 & 0.5129 & 0.7100 & \\textbf{0.7743} & 0.6757 & 0.7014 & 0.4686 & 0.6071 \\\\\n",
      "AllGestureWiimoteY & 0.5229 & \\textbf{0.7871} & 0.6657 & 0.5643 & 0.7100 & 0.7643 & 0.6843 & 0.7600 & 0.5086 & 0.7214 \\\\\n",
      "AllGestureWiimoteZ & 0.3529 & \\textbf{0.7843} & 0.5657 & 0.4243 & 0.6871 & 0.7586 & 0.6486 & 0.7143 & 0.5386 & 0.6929 \\\\\n",
      "ArrowHead & 0.7829 & \\textbf{0.8629} & 0.8057 & 0.7143 & 0.8229 & 0.8229 & 0.8457 & 0.8114 & 0.7371 & 0.8571 \\\\\n",
      "BME & 0.9933 & 0.9933 & 0.9333 & 0.8133 & \\textbf{1.0000} & \\textbf{1.0000} & 0.9000 & \\textbf{1.0000} & 0.7400 & \\textbf{1.0000} \\\\\n",
      "Beef & 0.8667 & 0.7000 & 0.7000 & 0.8000 & 0.8667 & 0.8000 & 0.9000 & 0.8333 & 0.7000 & \\textbf{0.9333} \\\\\n",
      "BeetleFly & 0.9000 & 0.8000 & 0.9500 & 0.8500 & 0.9500 & 0.9000 & 0.9500 & 0.9500 & 0.8500 & \\textbf{1.0000} \\\\\n",
      "BirdChicken & 0.9000 & 0.8000 & 0.8000 & 0.9500 & 0.8000 & 0.9000 & 0.9000 & 0.9000 & 0.8000 & \\textbf{1.0000} \\\\\n",
      "CBF & 0.9367 & 0.9956 & 0.9811 & 0.9122 & 0.9989 & \\textbf{1.0000} & 0.9922 & 0.9789 & 0.8489 & 0.9833 \\\\\n",
      "Car & 0.8167 & 0.8833 & 0.8000 & 0.8333 & 0.9167 & 0.9000 & 0.8833 & \\textbf{0.9333} & 0.6833 & 0.9167 \\\\\n",
      "Chinatown & \\textbf{0.9854} & 0.9796 & 0.9825 & 0.8338 & 0.9825 & 0.9796 & 0.9825 & 0.9738 & 0.9708 & 0.9738 \\\\\n",
      "ChlorineConcentration & 0.6990 & 0.8628 & 0.7138 & 0.6422 & 0.7438 & 0.8120 & 0.7411 & 0.7604 & 0.5995 & \\textbf{0.9318} \\\\\n",
      "CinCECGTorso & 0.8290 & 0.8232 & 0.7073 & 0.7732 & 0.8717 & 0.8268 & \\textbf{0.9986} & 0.9971 & 0.7529 & 0.9674 \\\\\n",
      "Coffee & \\textbf{1.0000} & \\textbf{1.0000} & \\textbf{1.0000} & 0.9286 & \\textbf{1.0000} & \\textbf{1.0000} & \\textbf{1.0000} & \\textbf{1.0000} & \\textbf{1.0000} & \\textbf{1.0000} \\\\\n",
      "Computers & 0.6560 & 0.7880 & 0.7160 & 0.6480 & 0.7840 & 0.7720 & 0.7320 & 0.7120 & 0.7880 & \\textbf{0.7960} \\\\\n",
      "CricketX & 0.5154 & \\textbf{0.8436} & 0.5949 & 0.5282 & 0.8000 & 0.8256 & 0.8051 & 0.8026 & 0.5231 & 0.7795 \\\\\n",
      "CricketY & 0.5256 & 0.8231 & 0.5769 & 0.5718 & 0.8333 & \\textbf{0.8538} & 0.8282 & 0.8359 & 0.5282 & 0.7692 \\\\\n",
      "CricketZ & 0.5205 & 0.8385 & 0.5641 & 0.5385 & 0.8154 & \\textbf{0.8590} & 0.8077 & 0.7923 & 0.5308 & 0.7897 \\\\\n",
      "Crop & 0.7527 & \\textbf{0.7589} & 0.7336 & 0.7263 & 0.7443 & 0.7570 & 0.7531 & 0.7212 & 0.5264 & 0.7067 \\\\\n",
      "DiatomSizeReduction & 0.9543 & 0.9837 & 0.9052 & 0.9739 & 0.9216 & 0.9771 & 0.8856 & 0.9281 & 0.9510 & \\textbf{0.9902} \\\\\n",
      "DistalPhalanxOutlineAgeGroup & \\textbf{0.7842} & 0.7698 & 0.7554 & 0.7482 & 0.7410 & 0.7770 & 0.7626 & 0.7554 & 0.7482 & 0.7770 \\\\\n",
      "DistalPhalanxOutlineCorrect & 0.7790 & 0.7790 & \\textbf{0.8370} & 0.7246 & 0.7717 & 0.7645 & 0.7862 & 0.7862 & 0.7681 & 0.8007 \\\\\n",
      "DistalPhalanxTW & 0.7050 & 0.6763 & 0.7410 & 0.6547 & 0.7050 & 0.7050 & 0.6978 & 0.7050 & 0.7122 & \\textbf{0.7554} \\\\\n",
      "DodgerLoopDay & 0.2750 & 0.5250 & 0.5375 & 0.5250 & 0.6125 & 0.6375 & 0.5500 & 0.4375 & 0.4000 & \\textbf{0.6625} \\\\\n",
      "DodgerLoopGame & 0.5217 & 0.8551 & 0.8913 & 0.8116 & 0.8841 & 0.8478 & 0.9203 & 0.8406 & 0.7319 & \\textbf{0.9493} \\\\\n",
      "DodgerLoopWeekend & 0.7899 & 0.9565 & 0.7826 & 0.9783 & 0.9710 & 0.9783 & 0.9710 & 0.9565 & 0.8406 & \\textbf{0.9928} \\\\\n",
      "ECG200 & 0.9000 & 0.9000 & 0.8500 & 0.8600 & \\textbf{0.9200} & \\textbf{0.9200} & 0.8800 & 0.8700 & 0.8800 & \\textbf{0.9200} \\\\\n",
      "ECG5000 & 0.9402 & 0.9369 & 0.9373 & 0.9429 & 0.9444 & 0.9462 & 0.9471 & \\textbf{0.9484} & 0.9251 & 0.9456 \\\\\n",
      "ECGFiveDays & 0.9001 & \\textbf{1.0000} & 0.9768 & 0.9942 & \\textbf{1.0000} & \\textbf{1.0000} & \\textbf{1.0000} & 0.9977 & 0.9896 & \\textbf{1.0000} \\\\\n",
      "EOGHorizontalSignal & 0.3370 & 0.5635 & 0.5912 & 0.4199 & 0.6077 & 0.6160 & \\textbf{0.6298} & 0.6022 & 0.4751 & 0.5553 \\\\\n",
      "EOGVerticalSignal & 0.2735 & 0.4917 & 0.4475 & 0.3812 & 0.5083 & \\textbf{0.5525} & 0.5276 & 0.4779 & 0.3370 & 0.4475 \\\\\n",
      "Earthquakes & 0.7410 & 0.7410 & \\textbf{0.7914} & 0.7554 & 0.7554 & 0.7410 & 0.7482 & 0.7266 & 0.7698 & 0.7554 \\\\\n",
      "ElectricDevices & 0.6734 & 0.7213 & 0.7476 & 0.6487 & 0.7400 & 0.7286 & \\textbf{0.7603} & 0.7444 & 0.6604 & 0.7108 \\\\\n",
      "EthanolLevel & 0.2520 & \\textbf{0.7540} & 0.6680 & 0.4480 & 0.5780 & 0.5980 & 0.7060 & 0.5820 & 0.4340 & 0.6060 \\\\\n",
      "FaceAll & 0.7562 & 0.8106 & 0.7290 & 0.7414 & 0.8047 & \\textbf{0.9467} & 0.7905 & 0.8491 & 0.7598 & 0.8290 \\\\\n",
      "FaceFour & 0.8636 & 0.9659 & 0.6023 & 0.8523 & 0.9773 & 0.9773 & \\textbf{1.0000} & 0.8977 & 0.5909 & 0.9432 \\\\\n",
      "FacesUCR & 0.8098 & \\textbf{0.9619} & 0.8244 & 0.8161 & 0.9556 & 0.9610 & 0.9561 & 0.9580 & 0.7341 & 0.9439 \\\\\n",
      "FiftyWords & 0.6088 & 0.8022 & 0.6110 & 0.6681 & 0.8374 & 0.8330 & 0.7824 & \\textbf{0.8396} & 0.4286 & 0.7846 \\\\\n",
      "Fish & 0.8057 & \\textbf{0.9886} & 0.7086 & 0.8114 & 0.9657 & 0.9829 & \\textbf{0.9886} & \\textbf{0.9886} & 0.7600 & 0.9714 \\\\\n",
      "FordA & 0.9068 & 0.9538 & 0.9417 & 0.9076 & 0.9477 & 0.9348 & 0.9447 & \\textbf{0.9621} & 0.8447 & 0.9568 \\\\\n",
      "FordB & 0.5778 & 0.8370 & 0.8037 & 0.7358 & 0.8173 & 0.8099 & 0.8333 & 0.8197 & 0.6704 & \\textbf{0.8432} \\\\\n",
      "FreezerRegularTrain & 0.9810 & 0.9965 & 0.9944 & 0.7800 & \\textbf{0.9986} & 0.9972 & 0.9979 & 0.9954 & 0.9789 & 0.9919 \\\\\n",
      "FreezerSmallTrain & 0.7639 & 0.8439 & 0.7691 & 0.7730 & 0.9716 & 0.9512 & \\textbf{0.9937} & 0.8786 & 0.9200 & 0.9109 \\\\\n",
      "Fungi & 0.8065 & \\textbf{1.0000} & 0.8065 & 0.9086 & \\textbf{1.0000} & \\textbf{1.0000} & 0.0860 & \\textbf{1.0000} & 0.9624 & \\textbf{1.0000} \\\\\n",
      "GestureMidAirD2 & 0.3692 & 0.6846 & 0.5615 & 0.5154 & 0.6539 & 0.6692 & 0.6154 & 0.6462 & 0.6154 & \\textbf{0.7154} \\\\\n",
      "GesturePebbleZ1 & 0.8023 & \\textbf{0.9361} & 0.9012 & 0.8372 & 0.9128 & 0.9128 & 0.9070 & 0.9070 & 0.5639 & 0.8895 \\\\\n",
      "GesturePebbleZ2 & 0.6646 & 0.8798 & 0.7468 & 0.7405 & 0.8165 & 0.8418 & \\textbf{0.8861} & 0.8734 & 0.5253 & 0.8354 \\\\\n",
      "GunPoint & 0.9733 & 0.9933 & 0.9867 & 0.8133 & \\textbf{1.0000} & \\textbf{1.0000} & \\textbf{1.0000} & \\textbf{1.0000} & 0.9533 & \\textbf{1.0000} \\\\\n",
      "GunPointAgeSpan & 0.9462 & 0.9937 & 0.9842 & 0.8702 & \\textbf{1.0000} & 0.9968 & 0.9968 & \\textbf{1.0000} & 0.9209 & 0.9905 \\\\\n",
      "GunPointMaleVersusFemale & 0.9968 & 0.9968 & 0.9937 & 0.9177 & 0.9968 & 0.9968 & 0.9968 & 0.9968 & 0.9937 & \\textbf{1.0000} \\\\\n",
      "GunPointOldVersusYoung & 0.7905 & 0.9937 & 0.9905 & 0.7905 & 0.9937 & 0.9937 & 0.9968 & 0.9968 & 0.9905 & \\textbf{1.0000} \\\\\n",
      "Ham & 0.7810 & 0.7429 & \\textbf{0.7905} & 0.7048 & 0.7429 & 0.7143 & 0.6762 & 0.6952 & 0.7619 & 0.7810 \\\\\n",
      "HandOutlines & 0.8946 & \\textbf{0.9540} & 0.9216 & 0.8865 & 0.9405 & 0.9432 & 0.9324 & 0.9405 & 0.7595 & 0.9514 \\\\\n",
      "Haptics & 0.4383 & 0.5422 & 0.4578 & 0.4286 & 0.5649 & 0.5260 & 0.5649 & 0.5292 & 0.4318 & \\textbf{0.5812} \\\\\n",
      "Herring & 0.6250 & 0.6562 & 0.6406 & 0.6562 & 0.6719 & 0.5938 & 0.6406 & \\textbf{0.7656} & 0.6250 & 0.6250 \\\\\n",
      "HouseTwenty & 0.6639 & 0.9496 & 0.8992 & 0.7731 & 0.9412 & 0.9664 & \\textbf{0.9832} & 0.9580 & 0.9664 & 0.9748 \\\\\n",
      "InlineSkate & 0.2782 & 0.4673 & 0.2764 & 0.3109 & 0.4418 & 0.4691 & 0.4782 & 0.4800 & 0.3782 & \\textbf{0.5054} \\\\\n",
      "InsectEPGRegularTrain & \\textbf{1.0000} & \\textbf{1.0000} & 0.9277 & 0.8675 & \\textbf{1.0000} & \\textbf{1.0000} & 0.9960 & \\textbf{1.0000} & \\textbf{1.0000} & \\textbf{1.0000} \\\\\n",
      "InsectEPGSmallTrain & \\textbf{1.0000} & 0.8474 & 0.8273 & 0.8313 & 0.9518 & 0.9799 & 0.9639 & 0.9598 & \\textbf{1.0000} & \\textbf{1.0000} \\\\\n",
      "InsectWingbeatSound & 0.6046 & 0.6207 & 0.5353 & 0.6248 & 0.6652 & \\textbf{0.6657} & 0.6540 & 0.6515 & 0.2879 & \\textbf{0.6657} \\\\\n",
      "ItalyPowerDemand & 0.9679 & 0.9679 & \\textbf{0.9747} & 0.9679 & 0.9689 & 0.9699 & 0.9670 & 0.9660 & 0.9436 & 0.9708 \\\\\n",
      "LargeKitchenAppliances & 0.5493 & 0.8853 & 0.8933 & 0.5813 & 0.8480 & \\textbf{0.8960} & 0.7573 & 0.8640 & 0.8693 & 0.8773 \\\\\n",
      "Lightning2 & 0.7541 & 0.8033 & \\textbf{0.8852} & 0.7705 & 0.7541 & 0.7869 & 0.7705 & 0.7377 & 0.7869 & 0.8361 \\\\\n",
      "Lightning7 & 0.7671 & 0.7534 & 0.7945 & 0.7808 & 0.6849 & 0.8219 & 0.7534 & 0.7808 & 0.6849 & \\textbf{0.8493} \\\\\n",
      "Mallat & 0.9437 & 0.9032 & 0.7241 & 0.9301 & 0.9399 & 0.9561 & \\textbf{0.9706} & 0.9501 & 0.9309 & 0.9616 \\\\\n",
      "Meat & 0.9333 & 0.9500 & 0.9167 & 0.9833 & 0.9833 & 0.9500 & 0.9000 & 0.9000 & 0.8833 & \\textbf{1.0000} \\\\\n",
      "MedicalImages & 0.7263 & 0.7974 & 0.7434 & 0.7197 & \\textbf{0.8092} & 0.8066 & 0.7592 & 0.7684 & 0.7434 & 0.7540 \\\\\n",
      "MelbournePedestrian & \\textbf{0.9266} & 0.9176 & 0.8836 & 0.9172 & 0.8885 & 0.9073 & 0.8922 & 0.8799 & 0.8020 & 0.8622 \\\\\n",
      "MiddlePhalanxOutlineAgeGroup & 0.6169 & 0.5454 & 0.6493 & 0.6558 & 0.5844 & 0.5520 & 0.5779 & 0.6039 & 0.6299 & \\textbf{0.6688} \\\\\n",
      "MiddlePhalanxOutlineCorrect & 0.6770 & 0.8316 & 0.8316 & 0.8007 & 0.8454 & 0.8385 & 0.8488 & 0.8385 & 0.7869 & \\textbf{0.8625} \\\\\n",
      "MiddlePhalanxTW & 0.6039 & 0.5065 & \\textbf{0.6169} & 0.5909 & 0.5325 & 0.5390 & 0.5714 & 0.5454 & 0.5649 & 0.5909 \\\\\n",
      "MixedShapesRegularTrain & 0.8111 & 0.9559 & 0.8771 & 0.8693 & 0.9732 & 0.9728 & 0.9732 & \\textbf{0.9802} & 0.8309 & 0.9522 \\\\\n",
      "MixedShapesSmallTrain & 0.8078 & 0.9027 & 0.7480 & 0.8280 & 0.9501 & 0.9365 & 0.9534 & \\textbf{0.9629} & 0.7917 & 0.9023 \\\\\n",
      "MoteStrain & 0.9050 & 0.8754 & 0.8107 & 0.8802 & 0.9377 & 0.9169 & \\textbf{0.9593} & 0.9449 & 0.6590 & 0.8410 \\\\\n",
      "NonInvasiveFetalECGThorax1 & 0.8433 & 0.9466 & 0.8590 & 0.8412 & 0.9466 & 0.9578 & 0.9267 & 0.9450 & 0.8102 & \\textbf{0.9583} \\\\\n",
      "NonInvasiveFetalECGThorax2 & 0.8743 & 0.9567 & 0.9282 & 0.8875 & \\textbf{0.9679} & 0.9659 & 0.9461 & 0.9593 & 0.8473 & 0.9603 \\\\\n",
      "OSULeaf & 0.5289 & 0.9174 & 0.6777 & 0.4669 & 0.9669 & 0.9422 & \\textbf{0.9876} & \\textbf{0.9876} & 0.7562 & 0.8471 \\\\\n",
      "OliveOil & 0.5333 & 0.8333 & 0.7667 & 0.4000 & 0.9333 & 0.9000 & 0.8667 & 0.9333 & 0.7667 & \\textbf{0.9667} \\\\\n",
      "PLAID & 0.4320 & \\textbf{0.9162} & 0.8734 & 0.4618 & 0.8901 & 0.8957 & 0.8492 & 0.8734 & 0.8343 & 0.9087 \\\\\n",
      "PhalangesOutlinesCorrect & 0.6434 & \\textbf{0.8450} & 0.8124 & 0.7343 & 0.8287 & 0.8368 & 0.8322 & 0.8205 & 0.7215 & 0.8357 \\\\\n",
      "Phoneme & 0.1245 & 0.3217 & 0.1424 & 0.1598 & 0.2948 & 0.2806 & \\textbf{0.3787} & 0.3228 & 0.2927 & 0.3534 \\\\\n",
      "PickupGestureWiimoteZ & 0.6000 & 0.6800 & 0.6200 & 0.6800 & 0.6800 & \\textbf{0.8600} & 0.7000 & 0.8200 & 0.6800 & 0.8200 \\\\\n",
      "PigAirwayPressure & 0.1250 & 0.5144 & 0.0481 & 0.0817 & \\textbf{0.8798} & 0.3942 & 0.7789 & 0.7452 & 0.2308 & 0.4375 \\\\\n",
      "PigArtPressure & 0.0240 & \\textbf{0.9952} & 0.0914 & 0.1106 & 0.9808 & 0.9615 & 0.9856 & 0.9856 & 0.7548 & 0.9760 \\\\\n",
      "PigCVP & 0.0961 & 0.9231 & 0.0625 & 0.1346 & 0.9183 & 0.9327 & \\textbf{0.9664} & 0.9519 & 0.5961 & 0.9183 \\\\\n",
      "Plane & 0.9809 & \\textbf{1.0000} & 0.9905 & 0.9809 & \\textbf{1.0000} & \\textbf{1.0000} & \\textbf{1.0000} & \\textbf{1.0000} & \\textbf{1.0000} & \\textbf{1.0000} \\\\\n",
      "PowerCons & \\textbf{1.0000} & 0.9389 & 0.9833 & 0.9944 & 0.9778 & 0.9333 & 0.9611 & 0.9444 & 0.8667 & 0.9500 \\\\\n",
      "ProximalPhalanxOutlineAgeGroup & 0.8732 & 0.8293 & \\textbf{0.8927} & 0.8780 & 0.8537 & 0.8585 & 0.8439 & 0.8634 & 0.8780 & 0.8732 \\\\\n",
      "ProximalPhalanxOutlineCorrect & 0.7869 & 0.9072 & \\textbf{0.9244} & 0.8110 & 0.8935 & 0.9003 & 0.8797 & 0.9003 & 0.8007 & 0.9038 \\\\\n",
      "ProximalPhalanxTW & 0.8195 & 0.7268 & \\textbf{0.8537} & 0.7805 & 0.8098 & 0.8049 & 0.8195 & 0.8195 & 0.8000 & 0.8146 \\\\\n",
      "RefrigerationDevices & 0.4240 & 0.5307 & 0.5680 & 0.5067 & 0.5067 & 0.5120 & 0.5493 & 0.4933 & 0.6133 & \\textbf{0.6187} \\\\\n",
      "Rock & 0.8200 & 0.8200 & 0.7400 & 0.8200 & 0.8400 & 0.9000 & \\textbf{0.9800} & 0.8600 & 0.7600 & 0.9000 \\\\\n",
      "ScreenType & 0.4187 & 0.5787 & 0.5360 & 0.4560 & 0.5147 & 0.4667 & 0.4800 & 0.5307 & 0.5733 & \\textbf{0.6373} \\\\\n",
      "SemgHandGenderCh2 & 0.7967 & 0.8717 & 0.8750 & 0.8983 & 0.8917 & 0.9283 & \\textbf{0.9617} & 0.8800 & 0.8000 & 0.9050 \\\\\n",
      "SemgHandMovementCh2 & 0.2911 & 0.5178 & 0.6089 & 0.5378 & 0.5711 & 0.6289 & \\textbf{0.7844} & 0.4578 & 0.5000 & 0.6822 \\\\\n",
      "SemgHandSubjectCh2 & 0.5244 & 0.7778 & 0.7711 & 0.8578 & 0.8733 & 0.8867 & \\textbf{0.9378} & 0.7956 & 0.6867 & 0.9156 \\\\\n",
      "ShakeGestureWiimoteZ & 0.6400 & 0.8000 & 0.6800 & 0.7600 & 0.9000 & 0.9000 & 0.7800 & 0.9200 & 0.8400 & \\textbf{0.9600} \\\\\n",
      "ShapeletSim & 0.5111 & 0.9889 & 0.5222 & 0.5778 & \\textbf{1.0000} & \\textbf{1.0000} & \\textbf{1.0000} & 0.9833 & 0.9722 & \\textbf{1.0000} \\\\\n",
      "ShapesAll & 0.6350 & 0.9217 & 0.6500 & 0.7033 & 0.9183 & 0.9050 & \\textbf{0.9383} & 0.9333 & 0.5750 & 0.8800 \\\\\n",
      "SmallKitchenAppliances & 0.5787 & 0.7680 & 0.7467 & 0.6400 & 0.8053 & 0.8080 & \\textbf{0.8133} & 0.8107 & 0.7573 & 0.7920 \\\\\n",
      "SonyAIBORobotSurface1 & 0.8053 & 0.9318 & 0.7504 & 0.5641 & 0.8919 & 0.9251 & 0.8453 & 0.9168 & 0.9484 & \\textbf{0.9767} \\\\\n",
      "SonyAIBORobotSurface2 & 0.8290 & 0.9234 & 0.9087 & 0.8458 & 0.9150 & 0.9192 & 0.9349 & \\textbf{0.9549} & 0.9412 & 0.9444 \\\\\n",
      "StarLightCurves & 0.8661 & 0.9773 & 0.9732 & 0.9505 & \\textbf{0.9825} & 0.9811 & 0.9795 & 0.9814 & 0.9257 & 0.9819 \\\\\n",
      "Strawberry & 0.9730 & 0.9784 & 0.9703 & 0.9568 & 0.9784 & \\textbf{0.9811} & 0.9730 & 0.9730 & 0.9108 & \\textbf{0.9811} \\\\\n",
      "SwedishLeaf & 0.8672 & 0.9600 & 0.9344 & 0.8656 & 0.9696 & 0.9616 & 0.9520 & \\textbf{0.9808} & 0.8592 & 0.9616 \\\\\n",
      "Symbols & 0.8683 & 0.9719 & 0.8754 & 0.8794 & 0.9789 & 0.9729 & 0.9729 & \\textbf{0.9799} & 0.7276 & 0.9668 \\\\\n",
      "ToeSegmentation1 & 0.6886 & 0.9693 & 0.6360 & 0.6228 & 0.9649 & 0.9517 & \\textbf{0.9737} & 0.9649 & 0.9079 & 0.9561 \\\\\n",
      "ToeSegmentation2 & 0.8923 & 0.9308 & 0.8154 & 0.7461 & 0.9077 & 0.9308 & \\textbf{0.9538} & 0.9077 & 0.8308 & 0.9077 \\\\\n",
      "Trace & 0.9300 & \\textbf{1.0000} & \\textbf{1.0000} & 0.7100 & \\textbf{1.0000} & \\textbf{1.0000} & \\textbf{1.0000} & \\textbf{1.0000} & \\textbf{1.0000} & \\textbf{1.0000} \\\\\n",
      "TwoLeadECG & 0.8411 & 0.9956 & 0.9034 & 0.6681 & 0.9982 & 0.9991 & 0.9939 & 0.9991 & 0.9991 & \\textbf{1.0000} \\\\\n",
      "UMD & \\textbf{1.0000} & 0.9653 & 0.8681 & 0.8889 & 0.9931 & 0.9931 & 0.9931 & 0.9931 & 0.8403 & 0.8125 \\\\\n",
      "UWaveGestureLibraryAll & 0.9249 & 0.9375 & 0.8802 & 0.9422 & 0.9690 & \\textbf{0.9757} & 0.9676 & 0.9712 & 0.4701 & 0.9550 \\\\\n",
      "UWaveGestureLibraryY & 0.6005 & 0.7412 & 0.6831 & 0.6379 & 0.7728 & 0.7786 & 0.7379 & \\textbf{0.7878} & 0.4486 & 0.6887 \\\\\n",
      "Wafer & 0.9972 & 0.9979 & 0.9955 & 0.9940 & 0.9995 & 0.9984 & 0.9997 & \\textbf{1.0000} & 0.9903 & 0.9980 \\\\\n",
      "Wine & 0.6852 & 0.6111 & 0.6111 & 0.5370 & 0.8518 & 0.7778 & 0.8333 & \\textbf{0.9074} & 0.7778 & 0.8889 \\\\\n",
      "WordSynonyms & 0.5564 & 0.7116 & 0.5047 & 0.5596 & 0.7304 & \\textbf{0.7523} & 0.6944 & 0.7367 & 0.4028 & 0.6897 \\\\\n",
      "Worms & 0.4935 & 0.7662 & 0.5844 & 0.5584 & 0.6753 & 0.7273 & 0.7143 & 0.7532 & 0.7013 & \\textbf{0.8052} \\\\\n",
      "WormsTwoClass & 0.6104 & 0.7532 & 0.6883 & 0.6623 & 0.7532 & 0.8052 & 0.8182 & 0.7792 & 0.8052 & \\textbf{0.8571} \\\\\n",
      "Yoga & 0.7687 & 0.9023 & 0.8333 & 0.7287 & 0.9207 & 0.9100 & 0.9203 & \\textbf{0.9267} & 0.7150 & 0.8847 \\\\\n"
     ]
    }
   ],
   "source": [
    "def print_total_accuracy(df):\n",
    "    for dataset_name in df.index:\n",
    "        accuracies = df.loc[dataset_name, :]\n",
    "        max_acc = accuracies.max()\n",
    "        formatted_accuracies = [f\"\\\\textbf{{{acc:.4f}}}\" if acc == max_acc else \"%.4f\" % acc for acc in accuracies]\n",
    "        row_str = f\"{dataset_name} & {' & '.join(formatted_accuracies)} \\\\\\\\\"\n",
    "        print(row_str)\n",
    "\n",
    "print_total_accuracy(df_acc)"
   ]
  },
  {
   "cell_type": "code",
   "execution_count": 6,
   "metadata": {},
   "outputs": [
    {
     "name": "stdout",
     "output_type": "stream",
     "text": [
      "Column Names & TimesNet & Inceptiontime & LSTNet & FEDformer & Minirocket & Rocket & Hivecote & Hydra & rmESN & PARC\n",
      "Num. of Top-1 & 8 & 19 & 11 & 0 & 16 & 22 & 28 & 25 & 5 & 42 \\\\\n"
     ]
    }
   ],
   "source": [
    "from scipy.stats import rankdata\n",
    "\n",
    "def rank_counts(df, k):\n",
    "    all_ranks = []\n",
    "    for dataset_name in df.index:\n",
    "        accuracies = df.loc[dataset_name, :] # 取某一行的全部值 type:series\n",
    "        ranks = rankdata(-accuracies, method='min') # 对数据进行排名，将较小（-较大）的排在前头\n",
    "        all_ranks.append(ranks)\n",
    "\n",
    "    all_ranks_df = pd.DataFrame(all_ranks)\n",
    "    counts = (all_ranks_df <= k).sum(axis=0).tolist()  # 计算排名第一的次数\n",
    "    count_str = f\"Num. of Top-{k} & {' & '.join(map(str, counts))} \\\\\\\\\"\n",
    "    print(f\"Column Names & {' & '.join(list(df.columns))}\")\n",
    "    print(count_str)\n",
    "\n",
    "rank_counts(df_acc, 1)"
   ]
  },
  {
   "cell_type": "code",
   "execution_count": 9,
   "metadata": {},
   "outputs": [
    {
     "name": "stdout",
     "output_type": "stream",
     "text": [
      "Column Names & TimesNet & Inceptiontime & LSTNet & FEDformer & Minirocket & Rocket & Hivecote & Hydra & rmESN & PARC\n",
      "Ours 1-to-1 Wins & 106 & 69 & 95 & 112 & 65 & 59 & 62 & 63 & 111 & - \\\\\n",
      "Ours 1-to-1 Ties & 6 & 6 & 4 & 2 & 14 & 15 & 6 & 10 & 6 & - \\\\\n",
      "Ours 1-to-1 Losses & 9 & 46 & 22 & 7 & 42 & 47 & 53 & 48 & 4 & - \\\\\n"
     ]
    }
   ],
   "source": [
    "def one_to_one_comparison(df):\n",
    "    ours_index = df.shape[1]\n",
    "    wins = [0] * ours_index\n",
    "    ties = [0] * ours_index\n",
    "    losses = [0] * ours_index\n",
    "\n",
    "    for i in range(0, len(df)):\n",
    "        ours_accuracy = df.iloc[i, ours_index - 1]\n",
    "        for j in range(ours_index - 1):\n",
    "            if df.iloc[i, j] > ours_accuracy:\n",
    "                losses[j] += 1\n",
    "            elif df.iloc[i, j] < ours_accuracy:\n",
    "                wins[j] += 1\n",
    "            else:\n",
    "                ties[j] += 1\n",
    "\n",
    "    wins[ours_index - 1] = \"-\"\n",
    "    ties[ours_index - 1] = \"-\"\n",
    "    losses[ours_index - 1] = \"-\"\n",
    "\n",
    "    wins_str = f\"Ours 1-to-1 Wins & {' & '.join(map(str, wins))} \\\\\\\\\"\n",
    "    ties_str = f\"Ours 1-to-1 Ties & {' & '.join(map(str, ties))} \\\\\\\\\"\n",
    "    losses_str = f\"Ours 1-to-1 Losses & {' & '.join(map(str, losses))} \\\\\\\\\"\n",
    "    print(f\"Column Names & {' & '.join(list(df.columns))}\")\n",
    "    print(wins_str)\n",
    "    print(ties_str)\n",
    "    print(losses_str)\n",
    "\n",
    "\n",
    "one_to_one_comparison(df_acc)"
   ]
  },
  {
   "cell_type": "code",
   "execution_count": 10,
   "metadata": {},
   "outputs": [
    {
     "name": "stdout",
     "output_type": "stream",
     "text": [
      "Column Names & TimesNet & Inceptiontime & LSTNet & FEDformer & Minirocket & Rocket & Hivecote & Hydra & rmESN & PARC\n",
      "Avg. Rank & 7.769 & 4.752 & 6.773 & 7.822 & 4.285 & 3.884 & 4.136 & 4.269 & 7.727 & \\textbf{3.583} \\\\\n",
      "Avg. Acc. & 0.707 & 0.837 & 0.758 & 0.716 & 0.848 & 0.851 & 0.844 & 0.848 & 0.737 & \\textbf{0.856} \\\\\n"
     ]
    }
   ],
   "source": [
    "def average_rank(df):\n",
    "    all_ranks = []\n",
    "    for data_name in df.index:\n",
    "        accuracies = df.loc[data_name, :]\n",
    "        # ranks = rankdata(-accuracies, method='min')\n",
    "        ranks = rankdata(-accuracies, method='average')\n",
    "        all_ranks.append(ranks)\n",
    "\n",
    "    avg_ranks = pd.DataFrame(all_ranks).mean().tolist()\n",
    "    max_avg_rank = min(avg_ranks)  # 由于排名越小越好，取最小值\n",
    "    formatted_avg_ranks = [f\"\\\\textbf{{{rank:.3f}}}\" if rank == max_avg_rank else f\"{rank:.3f}\" for rank in avg_ranks]\n",
    "    avg_rank_str = f\"Avg. Rank & {' & '.join(formatted_avg_ranks)} \\\\\\\\\"\n",
    "    print(f\"Column Names & {' & '.join(list(df.columns))}\")\n",
    "    print(avg_rank_str)\n",
    "\n",
    "def average_accuracy(df):\n",
    "    avg_accuracies = df.mean()\n",
    "    max_avg_acc = avg_accuracies.max()\n",
    "    formatted_avg_accuracies = [f\"\\\\textbf{{{acc:.3f}}}\" if acc == max_avg_acc else f\"{acc:.3f}\" for acc in\n",
    "                                avg_accuracies]\n",
    "    avg_str = f\"Avg. Acc. & {' & '.join(formatted_avg_accuracies)} \\\\\\\\\"\n",
    "    print(avg_str)\n",
    "\n",
    "\n",
    "average_rank(df_acc)\n",
    "average_accuracy(df_acc)"
   ]
  },
  {
   "cell_type": "code",
   "execution_count": 11,
   "metadata": {},
   "outputs": [
    {
     "name": "stdout",
     "output_type": "stream",
     "text": [
      "TimesNet & - & 8.40E-14 & 2.54E-05 & \\cellcolor{gray!25}1.89E-01 & 1.54E-16 & 7.29E-17 & 2.29E-15 & 2.17E-16 & \\cellcolor{gray!25}1.73E-01 & 3.66E-18 \\\\\n",
      "Inceptiontime & 8.40E-14 & - & 1.81E-10 & 9.63E-15 & \\cellcolor{gray!25}5.26E-02 & 2.00E-03 & \\cellcolor{gray!25}8.77E-02 & \\cellcolor{gray!25}1.57E-01 & 5.11E-13 & 1.07E-02 \\\\\n",
      "LSTNet & 2.54E-05 & 1.81E-10 & - & 5.58E-05 & 3.71E-12 & 8.72E-13 & 7.25E-11 & 1.05E-10 & 5.15E-03 & 3.21E-14 \\\\\n",
      "FEDformer & \\cellcolor{gray!25}1.89E-01 & 9.63E-15 & 5.58E-05 & - & 1.42E-17 & 1.52E-18 & 5.96E-17 & 9.28E-17 & \\cellcolor{gray!25}4.65E-01 & 1.14E-19 \\\\\n",
      "Minirocket & 1.54E-16 & \\cellcolor{gray!25}5.26E-02 & 3.71E-12 & 1.42E-17 & - & \\cellcolor{gray!25}1.31E-01 & \\cellcolor{gray!25}7.51E-01 & \\cellcolor{gray!25}4.63E-01 & 2.83E-15 & 3.93E-02 \\\\\n",
      "Rocket & 7.29E-17 & 2.00E-03 & 8.72E-13 & 1.52E-18 & \\cellcolor{gray!25}1.31E-01 & - & \\cellcolor{gray!25}7.95E-01 & \\cellcolor{gray!25}1.06E-01 & 3.03E-16 & \\cellcolor{gray!25}2.71E-01 \\\\\n",
      "Hivecote & 2.29E-15 & \\cellcolor{gray!25}8.77E-02 & 7.25E-11 & 5.96E-17 & \\cellcolor{gray!25}7.51E-01 & \\cellcolor{gray!25}7.95E-01 & - & \\cellcolor{gray!25}8.71E-01 & 4.50E-14 & \\cellcolor{gray!25}2.68E-01 \\\\\n",
      "Hydra & 2.17E-16 & \\cellcolor{gray!25}1.57E-01 & 1.05E-10 & 9.28E-17 & \\cellcolor{gray!25}4.63E-01 & \\cellcolor{gray!25}1.06E-01 & \\cellcolor{gray!25}8.71E-01 & - & 2.77E-15 & \\cellcolor{gray!25}9.29E-02 \\\\\n",
      "rmESN & \\cellcolor{gray!25}1.73E-01 & 5.11E-13 & 5.15E-03 & \\cellcolor{gray!25}4.65E-01 & 2.83E-15 & 3.03E-16 & 4.50E-14 & 2.77E-15 & - & 5.29E-20 \\\\\n",
      "PARC & 3.66E-18 & 1.07E-02 & 3.21E-14 & 1.14E-19 & 3.93E-02 & \\cellcolor{gray!25}2.71E-01 & \\cellcolor{gray!25}2.68E-01 & \\cellcolor{gray!25}9.29E-02 & 5.29E-20 & - \\\\\n",
      "\n"
     ]
    }
   ],
   "source": [
    "from scipy.stats import wilcoxon\n",
    "\n",
    "def print_p_values(df):\n",
    "    algorithms = df.columns\n",
    "    accuracies = df\n",
    "    num_algorithms = accuracies.shape[1]\n",
    "    p_values_matrix = np.zeros((num_algorithms, num_algorithms))\n",
    "\n",
    "    for i in range(num_algorithms):\n",
    "        for j in range(num_algorithms):\n",
    "            if i != j:\n",
    "                stat, p_value = wilcoxon(accuracies.iloc[:, i], accuracies.iloc[:, j])\n",
    "                p_values_matrix[i, j] = p_value\n",
    "            else:\n",
    "                p_values_matrix[i, j] = np.nan  # 自己与自己比较，用NaN表示\n",
    "\n",
    "    latex_str = \"\"\n",
    "\n",
    "    for i in range(len(algorithms)):\n",
    "        row = [algorithms[i]]\n",
    "        for j in range(len(algorithms)):\n",
    "            if i == j:\n",
    "                row.append(\"-\")\n",
    "            else:\n",
    "                p_value_str = f\"{p_values_matrix[i, j]:.2E}\"\n",
    "                if p_values_matrix[i, j] > 0.05:\n",
    "                    p_value_str = f\"\\\\cellcolor{{gray!25}}{p_value_str}\"\n",
    "                row.append(p_value_str)\n",
    "        latex_str += \" & \".join(row) + \" \\\\\\\\\\n\"\n",
    "\n",
    "    print(latex_str)\n",
    "\n",
    "print_p_values(df_acc)"
   ]
  },
  {
   "cell_type": "markdown",
   "metadata": {},
   "source": [
    "# f1score"
   ]
  },
  {
   "cell_type": "code",
   "execution_count": 10,
   "metadata": {},
   "outputs": [],
   "source": [
    "file_path = r'C:\\Users\\xycy1\\Desktop\\PeriodRes_AAAI\\code\\Comparison\\total_f1score.xlsx'\n",
    "df_f1score = pd.read_excel(file_path, sheet_name=0, engine='openpyxl')\n",
    "df_f1score.set_index(df_f1score.columns[0], inplace=True)"
   ]
  },
  {
   "cell_type": "code",
   "execution_count": 11,
   "metadata": {},
   "outputs": [],
   "source": [
    "def match_indices(df_1, df_2):\n",
    "    # 获取df_acc的索引\n",
    "    target_indices = df_1.index\n",
    "    \n",
    "    # 过滤df_time，使其只保留在df_acc中存在的索引\n",
    "    df_2_new = df_2[df_2.index.isin(target_indices)]\n",
    "    \n",
    "    return df_2_new\n",
    "\n",
    "df_f1score = match_indices(df_acc, df_f1score)"
   ]
  },
  {
   "cell_type": "code",
   "execution_count": 13,
   "metadata": {},
   "outputs": [],
   "source": [
    "file_path = r'C:\\Users\\xycy1\\Desktop\\PeriodRes_AAAI\\code\\Comparison\\total_time.xlsx'\n",
    "df_times = pd.read_excel(file_path, sheet_name=0, engine='openpyxl')\n",
    "df_times.set_index(df_times.columns[0], inplace=True)\n",
    "\n",
    "def match_indices(df_1, df_2):\n",
    "    # 获取df_acc的索引\n",
    "    target_indices = df_1.index\n",
    "    \n",
    "    # 过滤df_time，使其只保留在df_acc中存在的索引\n",
    "    df_2_new = df_2[df_2.index.isin(target_indices)]\n",
    "    \n",
    "    return df_2_new\n",
    "\n",
    "df_times = match_indices(df_acc, df_times)\n"
   ]
  },
  {
   "cell_type": "code",
   "execution_count": 19,
   "metadata": {},
   "outputs": [],
   "source": [
    "def average_epoch_time(df):\n",
    "    avg_accuracies = df.mean()\n",
    "    max_avg_acc = avg_accuracies.min()\n",
    "    formatted_avg_accuracies = [f\"\\\\textbf{{{acc:.2f}}}\" if acc == max_avg_acc else f\"{acc:.2f}\" for acc in\n",
    "                                avg_accuracies]\n",
    "    avg_str = f\"Avg. Time(s) & {' & '.join(formatted_avg_accuracies)} \\\\\\\\\"\n",
    "    print(avg_str)"
   ]
  },
  {
   "cell_type": "code",
   "execution_count": 22,
   "metadata": {},
   "outputs": [
    {
     "name": "stdout",
     "output_type": "stream",
     "text": [
      "Column Names & TimesNet & Inceptiontime & LSTNet & FEDformer & Minirocket & Rocket & Hivecote & Hydra & rmESN & PARC\n",
      "Avg. Rank & 7.769 & 4.752 & 6.773 & 7.822 & 4.285 & 3.884 & 4.136 & 4.269 & 7.727 & \\textbf{3.583} \\\\\n",
      "Avg. Acc. & 0.707 & 0.837 & 0.758 & 0.716 & 0.848 & 0.851 & 0.844 & 0.848 & 0.737 & \\textbf{0.856} \\\\\n",
      "Avg. Acc. & 0.689 & 0.832 & 0.753 & 0.701 & 0.844 & 0.847 & 0.837 & 0.844 & 0.726 & \\textbf{0.852} \\\\\n",
      "Avg. Time(s) & 367.03 & 393.62 & 20.51 & 106.63 & 4.35 & 30.50 & 9688.62 & 2.80 & \\textbf{0.25} & 95.55 \\\\\n",
      "Column Names & TimesNet & Inceptiontime & LSTNet & FEDformer & Minirocket & Rocket & Hivecote & Hydra & rmESN & PARC\n",
      "Ours 1-to-1 Wins & 69 & 95 & 112 & 65 & 59 & 62 & 63 & 111 & - \\\\\n",
      "Ours 1-to-1 Ties & 6 & 4 & 2 & 14 & 15 & 6 & 10 & 6 & - \\\\\n",
      "Ours 1-to-1 Losses & 46 & 22 & 7 & 42 & 47 & 53 & 48 & 4 & - \\\\\n"
     ]
    }
   ],
   "source": [
    "average_rank(df_acc)\n",
    "average_accuracy(df_acc)\n",
    "average_accuracy(df_f1score)\n",
    "average_epoch_time(df_times)\n",
    "one_to_one_comparison(df_acc)"
   ]
  },
  {
   "cell_type": "markdown",
   "metadata": {},
   "source": [
    "## Tanspose"
   ]
  },
  {
   "cell_type": "code",
   "execution_count": null,
   "metadata": {},
   "outputs": [],
   "source": []
  },
  {
   "cell_type": "code",
   "execution_count": 42,
   "metadata": {},
   "outputs": [
    {
     "name": "stdout",
     "output_type": "stream",
     "text": [
      "                Average  Avg Rank       p-Value wins/ties/losses\n",
      "TimesNet       0.706629  7.768595  3.655248e-18          106/6/9\n",
      "Inceptiontime  0.836697  4.752066  1.074891e-02          69/6/46\n",
      "LSTNet         0.757660  6.772727  3.208298e-14          95/4/22\n",
      "FEDformer      0.715691  7.822314  1.141994e-19          112/2/7\n",
      "Minirocket     0.847786  4.285124  3.933975e-02         65/14/42\n",
      "Rocket         0.851035  3.884298  2.706396e-01         59/15/47\n",
      "Hivecote       0.843570  4.136364  2.684871e-01          62/6/53\n",
      "Hydra          0.847957  4.268595  9.294927e-02         63/10/48\n",
      "rmESN          0.737442  7.727273  5.292879e-20          111/6/4\n",
      "PARC           0.856104  3.582645           NaN            -/-/-\n"
     ]
    }
   ],
   "source": [
    "def collect_info(df):\n",
    "    df_index = df.columns\n",
    "    avg_acc = df.mean(axis=0)\n",
    "    max_avg_acc = avg_acc.max()\n",
    "\n",
    "\n",
    "    all_ranks = []\n",
    "    for data_name in df.index:\n",
    "        accuracies = df.loc[data_name, :]\n",
    "        ranks = rankdata(-accuracies, method='average')\n",
    "        all_ranks.append(ranks)\n",
    "    avg_ranks = pd.DataFrame(all_ranks).mean().tolist()\n",
    "    # max_avg_rank = min(avg_ranks)  # 由于排名越小越好，取最小值\n",
    "\n",
    "\n",
    "    num_algorithms = df.shape[1]\n",
    "    p_values_matrix = np.zeros((num_algorithms, num_algorithms))\n",
    "    for i in range(num_algorithms):\n",
    "        for j in range(num_algorithms):\n",
    "            if i != j:\n",
    "                stat, p_value = wilcoxon(df.iloc[:, i], df.iloc[:, j])\n",
    "                p_values_matrix[i, j] = p_value\n",
    "            else:\n",
    "                p_values_matrix[i, j] = np.nan  # 自己与自己比较，用NaN表示\n",
    "    p_value_ours = p_values_matrix[-1, :].tolist()\n",
    "\n",
    "\n",
    "    ours_index = df.shape[1]\n",
    "    wins = [0] * ours_index\n",
    "    ties = [0] * ours_index\n",
    "    losses = [0] * ours_index\n",
    "    for i in range(0, len(df)):\n",
    "        ours_accuracy = df.iloc[i, ours_index - 1]\n",
    "        for j in range(ours_index - 1):\n",
    "            if df.iloc[i, j] > ours_accuracy:\n",
    "                losses[j] += 1\n",
    "            elif df.iloc[i, j] < ours_accuracy:\n",
    "                wins[j] += 1\n",
    "            else:\n",
    "                ties[j] += 1\n",
    "    wins[ours_index - 1] = \"-\"\n",
    "    ties[ours_index - 1] = \"-\"\n",
    "    losses[ours_index - 1] = \"-\"\n",
    "\n",
    "    conbine = []\n",
    "    for a, b, c in zip(wins, ties, losses):\n",
    "        conbine.append(f'{a}/{b}/{c}')\n",
    "    # 创建一个新的 DataFrame\n",
    "    new_df = pd.DataFrame(avg_acc, index=df_index, columns=['Average'])\n",
    "    # 添加 avg_ranks 到 new_df\n",
    "    new_df['Avg Rank'] = avg_ranks\n",
    "    new_df['p-Value'] = p_value_ours\n",
    "    new_df['wins/ties/losses'] = conbine\n",
    "    return new_df\n",
    "\n",
    "\n",
    "acc_info = collect_info(df_acc)\n",
    "print(acc_info)"
   ]
  },
  {
   "cell_type": "code",
   "execution_count": 29,
   "metadata": {},
   "outputs": [],
   "source": [
    "import pandas as pd\n",
    "import numpy as np\n",
    "import matplotlib.pyplot as plt\n",
    "from scipy.stats import wilcoxon\n",
    "from scipy.stats import rankdata\n",
    "\n",
    "# 读取xlsx到df\n",
    "def read_file(file_path, drop_datasets):\n",
    "    df = pd.read_excel(file_path, sheet_name=0, engine='openpyxl')\n",
    "    # 将第一列设置为索引\n",
    "    df.set_index(df.columns[0], inplace=True)\n",
    "    # 删除指定索引的行\n",
    "    df.drop(drop_datasets, errors='ignore', inplace=True)\n",
    "    return df\n",
    "\n",
    "\n",
    "\n",
    "def collect_info(df):\n",
    "    df_index = df.columns\n",
    "    avg_acc = df.mean(axis=0)\n",
    "    max_avg_acc = avg_acc.max()\n",
    "\n",
    "\n",
    "    all_ranks = []\n",
    "    for data_name in df.index:\n",
    "        accuracies = df.loc[data_name, :]\n",
    "        ranks = rankdata(-accuracies, method='average')\n",
    "        all_ranks.append(ranks)\n",
    "    avg_ranks = pd.DataFrame(all_ranks).mean().tolist()\n",
    "    # max_avg_rank = min(avg_ranks)  # 由于排名越小越好，取最小值\n",
    "\n",
    "\n",
    "    num_algorithms = df.shape[1]\n",
    "    p_values_matrix = np.zeros((num_algorithms, num_algorithms))\n",
    "    for i in range(num_algorithms):\n",
    "        for j in range(num_algorithms):\n",
    "            if i != j:\n",
    "                stat, p_value = wilcoxon(df.iloc[:, i], df.iloc[:, j])\n",
    "                p_values_matrix[i, j] = p_value\n",
    "            else:\n",
    "                p_values_matrix[i, j] = np.nan  # 自己与自己比较，用NaN表示\n",
    "    p_value_ours = p_values_matrix[-1, :].tolist()\n",
    "\n",
    "\n",
    "    ours_index = df.shape[1]\n",
    "    wins = [0] * ours_index\n",
    "    ties = [0] * ours_index\n",
    "    losses = [0] * ours_index\n",
    "    for i in range(0, len(df)):\n",
    "        ours_accuracy = df.iloc[i, ours_index - 1]\n",
    "        for j in range(ours_index - 1):\n",
    "            if df.iloc[i, j] > ours_accuracy:\n",
    "                losses[j] += 1\n",
    "            elif df.iloc[i, j] < ours_accuracy:\n",
    "                wins[j] += 1\n",
    "            else:\n",
    "                ties[j] += 1\n",
    "    wins[ours_index - 1] = \"-\"\n",
    "    ties[ours_index - 1] = \"-\"\n",
    "    losses[ours_index - 1] = \"-\"\n",
    "\n",
    "\n",
    "    # 创建一个新的 DataFrame\n",
    "    new_df = pd.DataFrame(avg_acc, index=df_index, columns=['Average'])\n",
    "    # 添加 avg_ranks 到 new_df\n",
    "    new_df['Avg Rank'] = avg_ranks\n",
    "    new_df['p-Value'] = p_value_ours\n",
    "    new_df['wins|ties|losses'] = wins\n",
    "    new_df['ties'] = ties\n",
    "    new_df['losses'] = losses\n",
    "\n",
    "    return new_df"
   ]
  },
  {
   "cell_type": "code",
   "execution_count": 30,
   "metadata": {},
   "outputs": [],
   "source": [
    "acc_file_path = r'C:\\Users\\xycy1\\Desktop\\PeriodRes_AAAI\\code\\Comparison\\total_acc.xlsx'\n",
    "f1_file_path = r'C:\\Users\\xycy1\\Desktop\\PeriodRes_AAAI\\code\\Comparison\\total_f1score.xlsx'\n",
    "indices_to_remove = ['SyntheticControl', 'TwoPatterns', 'SmoothSubspace', \n",
    "                    'GestureMidAirD1', 'GestureMidAirD3', 'UWaveGestureLibraryX', \n",
    "                    'UWaveGestureLibraryZ']\n",
    "df_acc = read_file(acc_file_path, indices_to_remove)\n",
    "df_f1 = read_file(f1_file_path, indices_to_remove)\n",
    "acc_info = collect_info(df_acc)\n",
    "f1_info = collect_info(df_f1)\n"
   ]
  },
  {
   "cell_type": "code",
   "execution_count": 33,
   "metadata": {},
   "outputs": [
    {
     "name": "stdout",
     "output_type": "stream",
     "text": [
      "                Average  Avg Rank       p-Value wins ties losses   Average  \\\n",
      "TimesNet       0.706629  7.768595  3.655248e-18  106    6      9  0.689032   \n",
      "Inceptiontime  0.836697  4.752066  1.074891e-02   69    6     46  0.832082   \n",
      "LSTNet         0.757660  6.772727  3.208298e-14   95    4     22  0.752550   \n",
      "FEDformer      0.715691  7.822314  1.141994e-19  112    2      7  0.701460   \n",
      "Minirocket     0.847786  4.285124  3.933975e-02   65   14     42  0.843707   \n",
      "Rocket         0.851035  3.884298  2.706396e-01   59   15     47  0.847136   \n",
      "Hivecote       0.843570  4.136364  2.684871e-01   62    6     53  0.836788   \n",
      "Hydra          0.847957  4.268595  9.294927e-02   63   10     48  0.843532   \n",
      "rmESN          0.737442  7.727273  5.292879e-20  111    6      4  0.725680   \n",
      "PARC           0.856104  3.582645           NaN    -    -      -  0.851549   \n",
      "\n",
      "               Avg Rank       p-Value wins ties losses  \n",
      "TimesNet       7.814050  1.484744e-18  109    3      9  \n",
      "Inceptiontime  4.702479  1.722297e-02   68    6     47  \n",
      "LSTNet         6.747934  1.019637e-13   94    2     25  \n",
      "FEDformer      7.880165  4.475004e-20  115    0      6  \n",
      "Minirocket     4.239669  4.547274e-02   67    9     45  \n",
      "Rocket         3.776860  2.948430e-01   59   12     50  \n",
      "Hivecote       4.202479  1.662928e-01   65    6     50  \n",
      "Hydra          4.256198  9.726335e-02   66    7     48  \n",
      "rmESN          7.826446  3.534351e-20  112    5      4  \n",
      "PARC           3.553719           NaN    -    -      -  \n"
     ]
    }
   ],
   "source": [
    "total_info = pd.concat([acc_info, f1_info], axis=1)\n",
    "print(total_info)"
   ]
  }
 ],
 "metadata": {
  "kernelspec": {
   "display_name": "tfgpu",
   "language": "python",
   "name": "python3"
  },
  "language_info": {
   "codemirror_mode": {
    "name": "ipython",
    "version": 3
   },
   "file_extension": ".py",
   "mimetype": "text/x-python",
   "name": "python",
   "nbconvert_exporter": "python",
   "pygments_lexer": "ipython3",
   "version": "3.8.13"
  }
 },
 "nbformat": 4,
 "nbformat_minor": 2
}
